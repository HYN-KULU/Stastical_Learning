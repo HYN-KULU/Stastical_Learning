{
 "cells": [
  {
   "cell_type": "code",
   "execution_count": 3,
   "metadata": {},
   "outputs": [],
   "source": [
    "import pandas\n",
    "import numpy as np\n",
    "\n",
    "df = pandas.read_csv('./word_freq.csv', header=None, index_col=0, squeeze = True)\n",
    "df2 = pandas.read_csv('./entropy.csv', header=None, index_col=0, squeeze = True)\n",
    "freq = df.to_dict()\n",
    "entropy = df2.to_dict()\n",
    "\n",
    "word = []\n",
    "count = []\n",
    "\n",
    "for dc in freq:\n",
    "    word.append(dc)\n",
    "    count.append(freq[dc])\n",
    "\n",
    "count = np.array(count)\n"
   ]
  },
  {
   "cell_type": "code",
   "execution_count": 15,
   "metadata": {},
   "outputs": [],
   "source": [
    "'''\n",
    "Read y1y2y3 from ALL\n",
    "'''\n",
    "import pandas\n",
    "\n",
    "doc = pandas.read_csv('../All_Word.csv')\n",
    "\n",
    "data = pandas.read_csv('../C_Data.csv')\n",
    "for w in data['Word']:\n",
    "    for (_, obj) in doc.iterrows():\n",
    "        if obj[0] == w:\n",
    "            with open('ydata.csv', 'a') as f:\n",
    "                f.write(f\"{w},{obj['y1']},{obj['y2']},{obj['y3']}\\n\")\n",
    "            # print(w, obj['y1'])\n"
   ]
  },
  {
   "cell_type": "code",
   "execution_count": 6,
   "metadata": {},
   "outputs": [
    {
     "data": {
      "text/plain": [
       "3"
      ]
     },
     "execution_count": 6,
     "metadata": {},
     "output_type": "execute_result"
    }
   ],
   "source": [
    "def overlay(word:str):\n",
    "    count = [0 for _ in range(26)]\n",
    "    for c in word:\n",
    "        count[ord(c) - 97] +=1\n",
    "    return max(count)\n",
    "\n",
    "overlay('mummykk')"
   ]
  },
  {
   "cell_type": "code",
   "execution_count": null,
   "metadata": {},
   "outputs": [],
   "source": [
    "data = pandas.read_csv('../C_Data.csv')\n",
    "for w in data['Word']:\n",
    "    with open('entro.csv', 'a') as f:\n",
    "        f.write(f'{w},{entropy[w]}\\n')"
   ]
  },
  {
   "cell_type": "code",
   "execution_count": 13,
   "metadata": {},
   "outputs": [
    {
     "data": {
      "text/plain": [
       "97431.0"
      ]
     },
     "execution_count": 13,
     "metadata": {},
     "output_type": "execute_result"
    }
   ],
   "source": [
    "N = 100000\n",
    "divc = count.sum()/N\n",
    "count_n = count/divc\n",
    "count = np.floor(count_n)\n",
    "sum(count)"
   ]
  },
  {
   "cell_type": "code",
   "execution_count": 4,
   "metadata": {},
   "outputs": [],
   "source": [
    "data = pandas.read_csv('../C_Data.csv')\n",
    "for w in data['Word']:\n",
    "    with open('freq.csv', 'a') as f:\n",
    "        f.write(f'{w},{freq[w]}\\n')"
   ]
  }
 ],
 "metadata": {
  "kernelspec": {
   "display_name": "Python 3",
   "language": "python",
   "name": "python3"
  },
  "language_info": {
   "codemirror_mode": {
    "name": "ipython",
    "version": 3
   },
   "file_extension": ".py",
   "mimetype": "text/x-python",
   "name": "python",
   "nbconvert_exporter": "python",
   "pygments_lexer": "ipython3",
   "version": "3.10.9"
  },
  "orig_nbformat": 4,
  "vscode": {
   "interpreter": {
    "hash": "e7370f93d1d0cde622a1f8e1c04877d8463912d04d973331ad4851f04de6915a"
   }
  }
 },
 "nbformat": 4,
 "nbformat_minor": 2
}
