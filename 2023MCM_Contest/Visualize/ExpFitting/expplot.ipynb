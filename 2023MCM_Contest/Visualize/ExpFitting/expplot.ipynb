{
 "cells": [
  {
   "cell_type": "code",
   "execution_count": 61,
   "metadata": {},
   "outputs": [],
   "source": [
    "import pandas as pd\n",
    "\n",
    "doc = pd.read_excel('./ExpFit.xlsx')\n",
    "x = doc['id'].tolist()\n",
    "y = doc['count'].tolist()\n",
    "'''\n",
    "Calc line\n",
    "'''\n",
    "import math\n",
    "\n",
    "def f(x):\n",
    "    a = 5.449e5\n",
    "    b = -0.01755\n",
    "    c=1.876e4\n",
    "    d=0.0007413\n",
    "    return a*math.exp(b*x)+c*math.exp(d*x)\n",
    "\n",
    "yc = []\n",
    "for x_ in x:\n",
    "    yc.append(f(x_))"
   ]
  },
  {
   "cell_type": "code",
   "execution_count": 79,
   "metadata": {},
   "outputs": [
    {
     "data": {
      "text/plain": [
       "'/run/media/linsy/Data/Study/Sophomore/MCM/Thoughts/Visualize/result.html'"
      ]
     },
     "execution_count": 79,
     "metadata": {},
     "output_type": "execute_result"
    }
   ],
   "source": [
    "from pyecharts.charts import Line\n",
    "import pyecharts.options as opts\n",
    "from pyecharts.charts import Scatter\n",
    "\n",
    "sc = (\n",
    "    Scatter()\n",
    "    .add_xaxis(xaxis_data=x)\n",
    "    .add_yaxis(\n",
    "        series_name=\"\",\n",
    "        y_axis=y,\n",
    "        symbol_size=5,\n",
    "        label_opts=opts.LabelOpts(is_show=False),\n",
    "        # color='#38beff',\n",
    "        itemstyle_opts=opts.ItemStyleOpts(opacity=0.5, color='#38beff')\n",
    "    )\n",
    "    .set_series_opts()\n",
    "    .set_global_opts(\n",
    "        xaxis_opts=opts.AxisOpts(\n",
    "            type_=\"value\", splitline_opts=opts.SplitLineOpts(is_show=True),\n",
    "            name = 'Days',\n",
    "            min_=20,\n",
    "            max_=370\n",
    "        ),\n",
    "        yaxis_opts=opts.AxisOpts(\n",
    "            type_=\"value\",\n",
    "            name = 'Number of scores',\n",
    "            axistick_opts=opts.AxisTickOpts(is_show=True),\n",
    "            splitline_opts=opts.SplitLineOpts(is_show=True),\n",
    "        ),\n",
    "        tooltip_opts=opts.TooltipOpts(is_show=False),\n",
    "    )\n",
    ")\n",
    "\n",
    "\n",
    "c = (\n",
    "    Line()\n",
    "    .add_xaxis(xaxis_data=x)\n",
    "    .add_yaxis(\"\",\n",
    "               yc,\n",
    "               is_smooth=True,\n",
    "               label_opts=opts.LabelOpts(is_show=False),\n",
    "               symbol_size=0,\n",
    "               linestyle_opts=opts.LineStyleOpts(color='black'))\n",
    "    .set_global_opts(title_opts=opts.TitleOpts(title=\"Line-smooth\"))\n",
    ")\n",
    "\n",
    "sc.overlap(c)\n",
    "sc.render('result.html')\n"
   ]
  },
  {
   "cell_type": "code",
   "execution_count": 54,
   "metadata": {},
   "outputs": [
    {
     "data": {
      "text/plain": [
       "160931.41955030878"
      ]
     },
     "execution_count": 54,
     "metadata": {},
     "output_type": "execute_result"
    }
   ],
   "source": []
  }
 ],
 "metadata": {
  "kernelspec": {
   "display_name": "Python 3",
   "language": "python",
   "name": "python3"
  },
  "language_info": {
   "codemirror_mode": {
    "name": "ipython",
    "version": 3
   },
   "file_extension": ".py",
   "mimetype": "text/x-python",
   "name": "python",
   "nbconvert_exporter": "python",
   "pygments_lexer": "ipython3",
   "version": "3.10.9"
  },
  "orig_nbformat": 4,
  "vscode": {
   "interpreter": {
    "hash": "e7370f93d1d0cde622a1f8e1c04877d8463912d04d973331ad4851f04de6915a"
   }
  }
 },
 "nbformat": 4,
 "nbformat_minor": 2
}
