{
 "cells": [
  {
   "cell_type": "code",
   "execution_count": 10,
   "metadata": {},
   "outputs": [],
   "source": [
    "import pandas as pd\n",
    "\n",
    "df = pd.read_csv('./wordle-solver/entropy.csv', header=None, index_col=0, squeeze = True)\n",
    "entro = df.to_dict()\n",
    "df = pd.read_csv('./wordle-solver/word_freq.csv', header=None, index_col=0, squeeze = True)\n",
    "freq = df.to_dict()\n",
    "\n",
    "def vowel(word:str):\n",
    "    count = 0\n",
    "    for c in word:\n",
    "        if c in ['a', 'e', 'i', 'o', 'u']:\n",
    "            count+=1\n",
    "    return count\n",
    "\n",
    "def overlay(word:str):\n",
    "    count = [0 for _ in range(26)]\n",
    "    for c in word:\n",
    "        count[ord(c) - 97] +=1\n",
    "    return max(count) - 1\n",
    "\n",
    "for word in entro:\n",
    "    with open('All_Word.csv', 'a') as f:\n",
    "        f.write(f'{word},{entro[word]},{freq[word]},{vowel(word)},{overlay(word)}\\n')"
   ]
  },
  {
   "cell_type": "code",
   "execution_count": 12,
   "metadata": {},
   "outputs": [],
   "source": [
    "'''\n",
    "ZScore the ratio\n",
    "'''\n",
    "\n",
    "import pandas as pd\n",
    "import numpy as np\n",
    "from jmutils.common.common import standardize\n",
    "\n",
    "\n",
    "doc = pd.read_csv('./All_Word.csv')\n",
    "ratio = doc['ratio']\n",
    "\n",
    "zs = standardize(np.array(ratio), method='zscore')\n",
    "for z in zs:\n",
    "    with open('ratio-z', 'a') as f:\n",
    "        f.write(f'{z}\\n')"
   ]
  }
 ],
 "metadata": {
  "kernelspec": {
   "display_name": "Python 3",
   "language": "python",
   "name": "python3"
  },
  "language_info": {
   "codemirror_mode": {
    "name": "ipython",
    "version": 3
   },
   "file_extension": ".py",
   "mimetype": "text/x-python",
   "name": "python",
   "nbconvert_exporter": "python",
   "pygments_lexer": "ipython3",
   "version": "3.10.9"
  },
  "orig_nbformat": 4,
  "vscode": {
   "interpreter": {
    "hash": "e7370f93d1d0cde622a1f8e1c04877d8463912d04d973331ad4851f04de6915a"
   }
  }
 },
 "nbformat": 4,
 "nbformat_minor": 2
}
