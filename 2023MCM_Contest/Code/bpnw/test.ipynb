{
 "cells": [
  {
   "cell_type": "code",
   "execution_count": 29,
   "metadata": {},
   "outputs": [
    {
     "name": "stdout",
     "output_type": "stream",
     "text": [
      "[4.0824175 1.3199172]\n",
      "[4.082     1.3182424]\n",
      "[4.081583  1.3165674]\n",
      "[4.0811653 1.3148926]\n",
      "[4.0807486 1.3132179]\n",
      "[4.080331 1.311543]\n",
      "[4.0799136 1.3098682]\n",
      "[4.0794964 1.3081933]\n",
      "[4.0790787 1.3065186]\n",
      "[4.078662  1.3048437]\n",
      "[4.078244  1.3031688]\n",
      "[4.077827 1.301494]\n",
      "[4.0774097 1.2998192]\n",
      "[4.076992  1.2981443]\n",
      "[4.0765753 1.2964694]\n",
      "[4.0761576 1.2947946]\n",
      "[4.0757403 1.2931199]\n",
      "[4.075323  1.2914448]\n",
      "[4.0749054 1.2897701]\n",
      "[4.0744886 1.2880954]\n",
      "[4.074071  1.2864205]\n",
      "[4.0736537 1.2847457]\n",
      "[4.0732365 1.2830708]\n",
      "[4.0728188 1.281396 ]\n",
      "[4.072402  1.2797213]\n",
      "[4.0719843 1.2780464]\n",
      "[4.071567  1.2763715]\n",
      "[4.07115   1.2746966]\n",
      "[4.070732  1.2730217]\n",
      "[4.0703154 1.2713469]\n",
      "[4.0698977 1.2696722]\n",
      "[4.0694804 1.2679973]\n",
      "[4.069063  1.2663224]\n",
      "[4.068646  1.2646477]\n",
      "[4.0682287 1.2629727]\n",
      "[4.067811 1.261298]\n",
      "[4.067394 1.259623]\n",
      "[4.0669765 1.2579482]\n",
      "[4.0665593 1.2562733]\n",
      "[4.0661416 1.2545986]\n",
      "[4.0657244 1.2529237]\n",
      "[4.065307  1.2512488]\n",
      "[4.06489  1.249574]\n",
      "[4.064472  1.2478992]\n",
      "[4.064055  1.2462244]\n",
      "[4.0636377 1.2445495]\n",
      "[4.0632205 1.2428747]\n",
      "[4.0628033 1.2412   ]\n",
      "[4.062386  1.2395251]\n",
      "[4.061969  1.2378502]\n",
      "[4.061551  1.2361753]\n",
      "[4.061134  1.2345006]\n",
      "[4.0607166 1.2328258]\n",
      "[4.060299  1.2311509]\n",
      "[4.0598817 1.229476 ]\n",
      "[4.0594645 1.2278013]\n",
      "[4.059047  1.2261264]\n",
      "[4.05863   1.2244515]\n",
      "[4.0582128 1.2227767]\n",
      "[4.0577955 1.2211018]\n",
      "[4.057378  1.2194269]\n",
      "[4.0569606 1.2177521]\n",
      "[4.0565434 1.2160773]\n",
      "[4.0561256 1.2144026]\n",
      "[4.055709  1.2127277]\n",
      "[4.055291  1.2110529]\n",
      "[4.054874 1.209378]\n",
      "[4.0544567 1.2077031]\n",
      "[4.054039  1.2060285]\n",
      "[4.0536222 1.2043536]\n",
      "[4.0532045 1.2026787]\n",
      "[4.0527873 1.2010038]\n",
      "[4.05237   1.1993291]\n",
      "[4.051953  1.1976542]\n",
      "[4.0515356 1.1959794]\n",
      "[4.051118  1.1943045]\n",
      "[4.050701  1.1926296]\n",
      "[4.0502834 1.1909547]\n",
      "[4.049866  1.1892799]\n",
      "[4.049449 1.187605]\n",
      "[4.0490313 1.1859303]\n",
      "[4.048614  1.1842554]\n",
      "[4.048197  1.1825805]\n",
      "[4.047779  1.1809057]\n",
      "[4.0473623 1.1792309]\n",
      "[4.0469446 1.177556 ]\n"
     ]
    }
   ],
   "source": [
    "from predict_model import WordleModel\n",
    "\n",
    "model = WordleModel()\n",
    "# model.predict('eerie', 0.0969)\n",
    "for x in range(86):\n",
    "    key = 0.01+x/1000\n",
    "    # print(key)\n",
    "    res =  model.predict('manly', key)\n",
    "    # print(f'[{key},{res[1]}],')\n",
    "    print(res)"
   ]
  },
  {
   "cell_type": "code",
   "execution_count": 1,
   "metadata": {},
   "outputs": [
    {
     "name": "stdout",
     "output_type": "stream",
     "text": [
      "model [ 0.41494804  3.48694744 14.56475678 30.23898612 31.20594712 16.0071371\n",
      "  4.0812774 ]\n"
     ]
    },
    {
     "data": {
      "text/plain": [
       "[0.4149480424254363,\n",
       " 3.486947443129001,\n",
       " 14.56475678215677,\n",
       " 30.23898611611205,\n",
       " 31.205947118528975,\n",
       " 16.007137095170684,\n",
       " 4.08127740247709]"
      ]
     },
     "execution_count": 1,
     "metadata": {},
     "output_type": "execute_result"
    },
    {
     "data": {
      "image/png": "[encoded data removed]",
      "text/plain": [
       "<Figure size 640x480 with 1 Axes>"
      ]
     },
     "metadata": {},
     "output_type": "display_data"
    }
   ],
   "source": [
    "from predict_model import WordleModel\n",
    "\n",
    "model = WordleModel()\n",
    "model.predict('avail', 1890/18586)\n",
    "model.result('avail', 1890/18586)"
   ]
  },
  {
   "cell_type": "code",
   "execution_count": 5,
   "metadata": {},
   "outputs": [],
   "source": [
    "import pandas as pd\n",
    "\n",
    "df = pd.read_csv('../All_Word.csv', header=None, index_col=0, squeeze = True, skiprows=1, usecols=[0,1])\n",
    "entro = df.to_dict()\n",
    "\n",
    "for word in entro:\n",
    "    with open('word_res.csv', 'a') as f:\n",
    "        ls = model.predict(word, 0.0969)\n",
    "        f.write(f'{word},{ls[0]},{ls[1]}\\n')"
   ]
  },
  {
   "cell_type": "code",
   "execution_count": 18,
   "metadata": {},
   "outputs": [
    {
     "data": {
      "text/plain": [
       "{'entropy': 4.07425653,\n",
       " 'freq': 21099943,\n",
       " 'vowel': 3,\n",
       " 'overlay': 0,\n",
       " 'y1': 2.589657646,\n",
       " 'y2': 1.329752023,\n",
       " 'y3': -1.005631646}"
      ]
     },
     "execution_count": 18,
     "metadata": {},
     "output_type": "execute_result"
    }
   ],
   "source": [
    "import pandas as pd\n",
    "\n",
    "doc = pd.read_csv('../All_Word.csv')\n",
    "searchdict = doc.set_index('word').to_dict('index')\n",
    "searchdict['raise']\n"
   ]
  },
  {
   "cell_type": "code",
   "execution_count": 19,
   "metadata": {},
   "outputs": [
    {
     "data": {
      "text/plain": [
       "tensor([5.1760, 1.6227], device='cuda:0', grad_fn=<AddBackward0>)"
      ]
     },
     "execution_count": 19,
     "metadata": {},
     "output_type": "execute_result"
    }
   ],
   "source": [
    "\n",
    "import torch\n",
    "net = torch.load('./fullmodel.pt')\n",
    "k1 = torch.tensor([-1.664347187,4.116637207,-2.097169674,0.0969]).to('cuda')\n",
    "net(k1)\n"
   ]
  }
 ],
 "metadata": {
  "kernelspec": {
   "display_name": "torch",
   "language": "python",
   "name": "python3"
  },
  "language_info": {
   "codemirror_mode": {
    "name": "ipython",
    "version": 3
   },
   "file_extension": ".py",
   "mimetype": "text/x-python",
   "name": "python",
   "nbconvert_exporter": "python",
   "pygments_lexer": "ipython3",
   "version": "3.10.9"
  },
  "orig_nbformat": 4,
  "vscode": {
   "interpreter": {
    "hash": "912e56bb7b08814261fb6071f6b932254f64b8ec10e4cad0eeb1d3a3b75ae03b"
   }
  }
 },
 "nbformat": 4,
 "nbformat_minor": 2
}
